{
 "cells": [
  {
   "cell_type": "markdown",
   "id": "cf27150e",
   "metadata": {},
   "source": [
    "# 데이터 시각화"
   ]
  },
  {
   "cell_type": "code",
   "execution_count": 2,
   "id": "e3deb760",
   "metadata": {},
   "outputs": [],
   "source": [
    "import pandas as pd\n",
    "import matplotlib.pyplot as plt\n",
    "plt.rcParams['font.family'] ='Malgun Gothic'\n",
    "plt.rcParams['axes.unicode_minus'] =False"
   ]
  },
  {
   "cell_type": "code",
   "execution_count": 5,
   "id": "b5c1de97",
   "metadata": {},
   "outputs": [
    {
     "data": {
      "text/html": [
       "<div>\n",
       "<style scoped>\n",
       "    .dataframe tbody tr th:only-of-type {\n",
       "        vertical-align: middle;\n",
       "    }\n",
       "\n",
       "    .dataframe tbody tr th {\n",
       "        vertical-align: top;\n",
       "    }\n",
       "\n",
       "    .dataframe thead th {\n",
       "        text-align: right;\n",
       "    }\n",
       "</style>\n",
       "<table border=\"1\" class=\"dataframe\">\n",
       "  <thead>\n",
       "    <tr style=\"text-align: right;\">\n",
       "      <th></th>\n",
       "      <th>동이름</th>\n",
       "      <th>위도</th>\n",
       "      <th>경도</th>\n",
       "      <th>거리</th>\n",
       "    </tr>\n",
       "  </thead>\n",
       "  <tbody>\n",
       "    <tr>\n",
       "      <th>0</th>\n",
       "      <td>무실동</td>\n",
       "      <td>37.333583</td>\n",
       "      <td>127.982941</td>\n",
       "      <td>1.212289</td>\n",
       "    </tr>\n",
       "    <tr>\n",
       "      <th>1</th>\n",
       "      <td>판부면</td>\n",
       "      <td>37.280635</td>\n",
       "      <td>127.998761</td>\n",
       "      <td>5.298523</td>\n",
       "    </tr>\n",
       "    <tr>\n",
       "      <th>2</th>\n",
       "      <td>단계동</td>\n",
       "      <td>37.356333</td>\n",
       "      <td>127.922076</td>\n",
       "      <td>5.892260</td>\n",
       "    </tr>\n",
       "    <tr>\n",
       "      <th>3</th>\n",
       "      <td>흥업면</td>\n",
       "      <td>37.289240</td>\n",
       "      <td>127.894466</td>\n",
       "      <td>8.158391</td>\n",
       "    </tr>\n",
       "    <tr>\n",
       "      <th>4</th>\n",
       "      <td>소초면</td>\n",
       "      <td>37.418784</td>\n",
       "      <td>128.001779</td>\n",
       "      <td>10.740809</td>\n",
       "    </tr>\n",
       "    <tr>\n",
       "      <th>...</th>\n",
       "      <td>...</td>\n",
       "      <td>...</td>\n",
       "      <td>...</td>\n",
       "      <td>...</td>\n",
       "    </tr>\n",
       "    <tr>\n",
       "      <th>74</th>\n",
       "      <td>NaN</td>\n",
       "      <td>37.220550</td>\n",
       "      <td>127.808686</td>\n",
       "      <td>18.737873</td>\n",
       "    </tr>\n",
       "    <tr>\n",
       "      <th>75</th>\n",
       "      <td>NaN</td>\n",
       "      <td>37.276382</td>\n",
       "      <td>127.771636</td>\n",
       "      <td>18.797300</td>\n",
       "    </tr>\n",
       "    <tr>\n",
       "      <th>76</th>\n",
       "      <td>NaN</td>\n",
       "      <td>37.276382</td>\n",
       "      <td>127.771636</td>\n",
       "      <td>18.797300</td>\n",
       "    </tr>\n",
       "    <tr>\n",
       "      <th>77</th>\n",
       "      <td>NaN</td>\n",
       "      <td>37.276382</td>\n",
       "      <td>127.771636</td>\n",
       "      <td>18.797300</td>\n",
       "    </tr>\n",
       "    <tr>\n",
       "      <th>78</th>\n",
       "      <td>NaN</td>\n",
       "      <td>37.276382</td>\n",
       "      <td>127.771636</td>\n",
       "      <td>18.797300</td>\n",
       "    </tr>\n",
       "  </tbody>\n",
       "</table>\n",
       "<p>79 rows × 4 columns</p>\n",
       "</div>"
      ],
      "text/plain": [
       "    동이름         위도          경도         거리\n",
       "0   무실동  37.333583  127.982941   1.212289\n",
       "1   판부면  37.280635  127.998761   5.298523\n",
       "2   단계동  37.356333  127.922076   5.892260\n",
       "3   흥업면  37.289240  127.894466   8.158391\n",
       "4   소초면  37.418784  128.001779  10.740809\n",
       "..  ...        ...         ...        ...\n",
       "74  NaN  37.220550  127.808686  18.737873\n",
       "75  NaN  37.276382  127.771636  18.797300\n",
       "76  NaN  37.276382  127.771636  18.797300\n",
       "77  NaN  37.276382  127.771636  18.797300\n",
       "78  NaN  37.276382  127.771636  18.797300\n",
       "\n",
       "[79 rows x 4 columns]"
      ]
     },
     "execution_count": 5,
     "metadata": {},
     "output_type": "execute_result"
    }
   ],
   "source": [
    "df = pd.read_csv('상습예측구간_거리순정렬.csv', encoding = 'utf-8-sig')\n",
    "\n",
    "df"
   ]
  },
  {
   "cell_type": "code",
   "execution_count": 52,
   "id": "fec9d4e1",
   "metadata": {
    "scrolled": true
   },
   "outputs": [
    {
     "data": {
      "text/html": [
       "<div>\n",
       "<style scoped>\n",
       "    .dataframe tbody tr th:only-of-type {\n",
       "        vertical-align: middle;\n",
       "    }\n",
       "\n",
       "    .dataframe tbody tr th {\n",
       "        vertical-align: top;\n",
       "    }\n",
       "\n",
       "    .dataframe thead th {\n",
       "        text-align: right;\n",
       "    }\n",
       "</style>\n",
       "<table border=\"1\" class=\"dataframe\">\n",
       "  <thead>\n",
       "    <tr style=\"text-align: right;\">\n",
       "      <th></th>\n",
       "      <th>구간 번호</th>\n",
       "      <th>관리청</th>\n",
       "      <th>도로 분류</th>\n",
       "      <th>대표지역</th>\n",
       "      <th>도로(노선)명</th>\n",
       "      <th>총길이(km)</th>\n",
       "      <th>기점 위도(WGS84(4326))</th>\n",
       "      <th>기점 경도(WGS84(4326))</th>\n",
       "      <th>종점 위도(WGS84(4326))</th>\n",
       "      <th>종점 경도(WGS84(4326))</th>\n",
       "      <th>정북기준 도로방향 각도(x1)</th>\n",
       "      <th>정북기준 도로방향 각도(y1)</th>\n",
       "      <th>정북기준 도로방향 각도(기점 기준십진수 방위각)</th>\n",
       "    </tr>\n",
       "  </thead>\n",
       "  <tbody>\n",
       "    <tr>\n",
       "      <th>0</th>\n",
       "      <td>47720-2</td>\n",
       "      <td>대구광역시(군위군)</td>\n",
       "      <td>군도</td>\n",
       "      <td>경상북도 군위군</td>\n",
       "      <td>군도10호선</td>\n",
       "      <td>2.0</td>\n",
       "      <td>36.100675</td>\n",
       "      <td>128.668214</td>\n",
       "      <td>36.115454</td>\n",
       "      <td>128.687826</td>\n",
       "      <td>-0.019612</td>\n",
       "      <td>-0.014779</td>\n",
       "      <td>217.000555</td>\n",
       "    </tr>\n",
       "    <tr>\n",
       "      <th>1</th>\n",
       "      <td>47720-5</td>\n",
       "      <td>대구광역시(군위군)</td>\n",
       "      <td>군도</td>\n",
       "      <td>경상북도 군위군</td>\n",
       "      <td>군도13호선</td>\n",
       "      <td>0.6</td>\n",
       "      <td>36.188063</td>\n",
       "      <td>128.832446</td>\n",
       "      <td>36.190977</td>\n",
       "      <td>128.827488</td>\n",
       "      <td>0.004958</td>\n",
       "      <td>-0.002914</td>\n",
       "      <td>329.555671</td>\n",
       "    </tr>\n",
       "    <tr>\n",
       "      <th>2</th>\n",
       "      <td>26380-3</td>\n",
       "      <td>부산광역시(사하구)</td>\n",
       "      <td>지방도</td>\n",
       "      <td>부산광역시 사하구</td>\n",
       "      <td>두송로</td>\n",
       "      <td>1.4</td>\n",
       "      <td>35.080532</td>\n",
       "      <td>128.977800</td>\n",
       "      <td>35.072378</td>\n",
       "      <td>128.983738</td>\n",
       "      <td>-0.005938</td>\n",
       "      <td>0.008154</td>\n",
       "      <td>126.064961</td>\n",
       "    </tr>\n",
       "    <tr>\n",
       "      <th>3</th>\n",
       "      <td>48000-33</td>\n",
       "      <td>경상남도(도로관리사업소 진주지소)</td>\n",
       "      <td>지방도</td>\n",
       "      <td>경상남도 사천시</td>\n",
       "      <td>지방도1002호선</td>\n",
       "      <td>0.8</td>\n",
       "      <td>35.069803</td>\n",
       "      <td>128.000134</td>\n",
       "      <td>35.070510</td>\n",
       "      <td>128.000769</td>\n",
       "      <td>-0.000634</td>\n",
       "      <td>-0.000708</td>\n",
       "      <td>228.129912</td>\n",
       "    </tr>\n",
       "    <tr>\n",
       "      <th>4</th>\n",
       "      <td>48000-39</td>\n",
       "      <td>경상남도(도로관리사업소 진주지소)</td>\n",
       "      <td>지방도</td>\n",
       "      <td>경상남도 사천시</td>\n",
       "      <td>국지도58호선</td>\n",
       "      <td>0.5</td>\n",
       "      <td>35.049488</td>\n",
       "      <td>127.961082</td>\n",
       "      <td>35.049113</td>\n",
       "      <td>127.962758</td>\n",
       "      <td>-0.001677</td>\n",
       "      <td>0.000375</td>\n",
       "      <td>167.381266</td>\n",
       "    </tr>\n",
       "    <tr>\n",
       "      <th>...</th>\n",
       "      <td>...</td>\n",
       "      <td>...</td>\n",
       "      <td>...</td>\n",
       "      <td>...</td>\n",
       "      <td>...</td>\n",
       "      <td>...</td>\n",
       "      <td>...</td>\n",
       "      <td>...</td>\n",
       "      <td>...</td>\n",
       "      <td>...</td>\n",
       "      <td>...</td>\n",
       "      <td>...</td>\n",
       "      <td>...</td>\n",
       "    </tr>\n",
       "    <tr>\n",
       "      <th>2952</th>\n",
       "      <td>42000-94</td>\n",
       "      <td>강원특별자치도(도로관리사업소 태백지소)</td>\n",
       "      <td>지방도</td>\n",
       "      <td>강원특별자치도 영월군</td>\n",
       "      <td>국지도88호선</td>\n",
       "      <td>1.9</td>\n",
       "      <td>37.102122</td>\n",
       "      <td>128.693749</td>\n",
       "      <td>37.095931</td>\n",
       "      <td>128.705793</td>\n",
       "      <td>-0.012044</td>\n",
       "      <td>0.006191</td>\n",
       "      <td>152.795391</td>\n",
       "    </tr>\n",
       "    <tr>\n",
       "      <th>2953</th>\n",
       "      <td>60500-62</td>\n",
       "      <td>국토관리청(부산청)</td>\n",
       "      <td>일반국도</td>\n",
       "      <td>대구광역시 군위군</td>\n",
       "      <td>28호선</td>\n",
       "      <td>2.0</td>\n",
       "      <td>36.106687</td>\n",
       "      <td>128.750903</td>\n",
       "      <td>36.098415</td>\n",
       "      <td>128.746541</td>\n",
       "      <td>0.004362</td>\n",
       "      <td>0.008272</td>\n",
       "      <td>62.196373</td>\n",
       "    </tr>\n",
       "    <tr>\n",
       "      <th>2954</th>\n",
       "      <td>70100-1</td>\n",
       "      <td>한국도로공사(한국도로공사)</td>\n",
       "      <td>고속국도</td>\n",
       "      <td>인천광역시 남동구</td>\n",
       "      <td>100호선</td>\n",
       "      <td>1.0</td>\n",
       "      <td>37.461185</td>\n",
       "      <td>126.764554</td>\n",
       "      <td>37.458498</td>\n",
       "      <td>126.775321</td>\n",
       "      <td>-0.010766</td>\n",
       "      <td>0.002686</td>\n",
       "      <td>165.989472</td>\n",
       "    </tr>\n",
       "    <tr>\n",
       "      <th>2955</th>\n",
       "      <td>28200-12</td>\n",
       "      <td>인천광역시(남동구)</td>\n",
       "      <td>구도</td>\n",
       "      <td>인천광역시 남동구</td>\n",
       "      <td>만월로</td>\n",
       "      <td>1.6</td>\n",
       "      <td>37.465527</td>\n",
       "      <td>126.720925</td>\n",
       "      <td>37.476163</td>\n",
       "      <td>126.712994</td>\n",
       "      <td>0.007931</td>\n",
       "      <td>-0.010636</td>\n",
       "      <td>306.709477</td>\n",
       "    </tr>\n",
       "    <tr>\n",
       "      <th>2956</th>\n",
       "      <td>28200-14</td>\n",
       "      <td>인천광역시(남동구)</td>\n",
       "      <td>시도</td>\n",
       "      <td>인천광역시 남동구</td>\n",
       "      <td>인주대로</td>\n",
       "      <td>0.7</td>\n",
       "      <td>37.446002</td>\n",
       "      <td>126.756719</td>\n",
       "      <td>37.447157</td>\n",
       "      <td>126.749120</td>\n",
       "      <td>0.007599</td>\n",
       "      <td>-0.001155</td>\n",
       "      <td>351.357577</td>\n",
       "    </tr>\n",
       "  </tbody>\n",
       "</table>\n",
       "<p>2957 rows × 13 columns</p>\n",
       "</div>"
      ],
      "text/plain": [
       "         구간 번호                    관리청 도로 분류          대표지역    도로(노선)명  총길이(km)  \\\n",
       "0      47720-2             대구광역시(군위군)    군도      경상북도 군위군     군도10호선      2.0   \n",
       "1      47720-5             대구광역시(군위군)    군도      경상북도 군위군     군도13호선      0.6   \n",
       "2      26380-3             부산광역시(사하구)   지방도     부산광역시 사하구        두송로      1.4   \n",
       "3     48000-33     경상남도(도로관리사업소 진주지소)   지방도      경상남도 사천시  지방도1002호선      0.8   \n",
       "4     48000-39     경상남도(도로관리사업소 진주지소)   지방도      경상남도 사천시    국지도58호선      0.5   \n",
       "...        ...                    ...   ...           ...        ...      ...   \n",
       "2952  42000-94  강원특별자치도(도로관리사업소 태백지소)   지방도  강원특별자치도 영월군     국지도88호선      1.9   \n",
       "2953  60500-62             국토관리청(부산청)  일반국도    대구광역시 군위군        28호선      2.0   \n",
       "2954   70100-1         한국도로공사(한국도로공사)  고속국도     인천광역시 남동구      100호선      1.0   \n",
       "2955  28200-12             인천광역시(남동구)    구도     인천광역시 남동구        만월로      1.6   \n",
       "2956  28200-14             인천광역시(남동구)    시도     인천광역시 남동구       인주대로      0.7   \n",
       "\n",
       "      기점 위도(WGS84(4326))  기점 경도(WGS84(4326))  종점 위도(WGS84(4326))  \\\n",
       "0              36.100675          128.668214           36.115454   \n",
       "1              36.188063          128.832446           36.190977   \n",
       "2              35.080532          128.977800           35.072378   \n",
       "3              35.069803          128.000134           35.070510   \n",
       "4              35.049488          127.961082           35.049113   \n",
       "...                  ...                 ...                 ...   \n",
       "2952           37.102122          128.693749           37.095931   \n",
       "2953           36.106687          128.750903           36.098415   \n",
       "2954           37.461185          126.764554           37.458498   \n",
       "2955           37.465527          126.720925           37.476163   \n",
       "2956           37.446002          126.756719           37.447157   \n",
       "\n",
       "      종점 경도(WGS84(4326))  정북기준 도로방향 각도(x1)  정북기준 도로방향 각도(y1)  \\\n",
       "0             128.687826         -0.019612         -0.014779   \n",
       "1             128.827488          0.004958         -0.002914   \n",
       "2             128.983738         -0.005938          0.008154   \n",
       "3             128.000769         -0.000634         -0.000708   \n",
       "4             127.962758         -0.001677          0.000375   \n",
       "...                  ...               ...               ...   \n",
       "2952          128.705793         -0.012044          0.006191   \n",
       "2953          128.746541          0.004362          0.008272   \n",
       "2954          126.775321         -0.010766          0.002686   \n",
       "2955          126.712994          0.007931         -0.010636   \n",
       "2956          126.749120          0.007599         -0.001155   \n",
       "\n",
       "      정북기준 도로방향 각도(기점 기준십진수 방위각)  \n",
       "0                     217.000555  \n",
       "1                     329.555671  \n",
       "2                     126.064961  \n",
       "3                     228.129912  \n",
       "4                     167.381266  \n",
       "...                          ...  \n",
       "2952                  152.795391  \n",
       "2953                   62.196373  \n",
       "2954                  165.989472  \n",
       "2955                  306.709477  \n",
       "2956                  351.357577  \n",
       "\n",
       "[2957 rows x 13 columns]"
      ]
     },
     "execution_count": 52,
     "metadata": {},
     "output_type": "execute_result"
    }
   ],
   "source": [
    "df = pd.read_csv('행정안전부_상습 결빙구간_20231222.csv', encoding = 'utf-8-sig')\n",
    "\n",
    "df"
   ]
  },
  {
   "cell_type": "code",
   "execution_count": 53,
   "id": "6da945b3",
   "metadata": {},
   "outputs": [
    {
     "data": {
      "text/plain": [
       "경기도 평택시      70\n",
       "전라북도 김제시     63\n",
       "경기도 용인시      63\n",
       "경기도 시흥시      46\n",
       "경상남도 김해시     45\n",
       "             ..\n",
       "서울특별시 강동구     1\n",
       "부산광역시 중구      1\n",
       "충청남도 서천군      1\n",
       "울산광역시 중구      1\n",
       "충청북도 증평군      1\n",
       "Name: 대표지역, Length: 242, dtype: int64"
      ]
     },
     "execution_count": 53,
     "metadata": {},
     "output_type": "execute_result"
    }
   ],
   "source": [
    "df['대표지역'].value_counts()"
   ]
  },
  {
   "cell_type": "code",
   "execution_count": 56,
   "id": "57e0bae3",
   "metadata": {},
   "outputs": [
    {
     "data": {
      "text/html": [
       "<div>\n",
       "<style scoped>\n",
       "    .dataframe tbody tr th:only-of-type {\n",
       "        vertical-align: middle;\n",
       "    }\n",
       "\n",
       "    .dataframe tbody tr th {\n",
       "        vertical-align: top;\n",
       "    }\n",
       "\n",
       "    .dataframe thead th {\n",
       "        text-align: right;\n",
       "    }\n",
       "</style>\n",
       "<table border=\"1\" class=\"dataframe\">\n",
       "  <thead>\n",
       "    <tr style=\"text-align: right;\">\n",
       "      <th></th>\n",
       "      <th>구간 번호</th>\n",
       "      <th>대표지역</th>\n",
       "    </tr>\n",
       "  </thead>\n",
       "  <tbody>\n",
       "    <tr>\n",
       "      <th>0</th>\n",
       "      <td>47720-2</td>\n",
       "      <td>경상북도 군위군</td>\n",
       "    </tr>\n",
       "    <tr>\n",
       "      <th>1</th>\n",
       "      <td>47720-5</td>\n",
       "      <td>경상북도 군위군</td>\n",
       "    </tr>\n",
       "    <tr>\n",
       "      <th>2</th>\n",
       "      <td>26380-3</td>\n",
       "      <td>부산광역시 사하구</td>\n",
       "    </tr>\n",
       "    <tr>\n",
       "      <th>3</th>\n",
       "      <td>48000-33</td>\n",
       "      <td>경상남도 사천시</td>\n",
       "    </tr>\n",
       "    <tr>\n",
       "      <th>4</th>\n",
       "      <td>48000-39</td>\n",
       "      <td>경상남도 사천시</td>\n",
       "    </tr>\n",
       "    <tr>\n",
       "      <th>...</th>\n",
       "      <td>...</td>\n",
       "      <td>...</td>\n",
       "    </tr>\n",
       "    <tr>\n",
       "      <th>2952</th>\n",
       "      <td>42000-94</td>\n",
       "      <td>강원특별자치도 영월군</td>\n",
       "    </tr>\n",
       "    <tr>\n",
       "      <th>2953</th>\n",
       "      <td>60500-62</td>\n",
       "      <td>대구광역시 군위군</td>\n",
       "    </tr>\n",
       "    <tr>\n",
       "      <th>2954</th>\n",
       "      <td>70100-1</td>\n",
       "      <td>인천광역시 남동구</td>\n",
       "    </tr>\n",
       "    <tr>\n",
       "      <th>2955</th>\n",
       "      <td>28200-12</td>\n",
       "      <td>인천광역시 남동구</td>\n",
       "    </tr>\n",
       "    <tr>\n",
       "      <th>2956</th>\n",
       "      <td>28200-14</td>\n",
       "      <td>인천광역시 남동구</td>\n",
       "    </tr>\n",
       "  </tbody>\n",
       "</table>\n",
       "<p>2957 rows × 2 columns</p>\n",
       "</div>"
      ],
      "text/plain": [
       "         구간 번호          대표지역\n",
       "0      47720-2      경상북도 군위군\n",
       "1      47720-5      경상북도 군위군\n",
       "2      26380-3     부산광역시 사하구\n",
       "3     48000-33      경상남도 사천시\n",
       "4     48000-39      경상남도 사천시\n",
       "...        ...           ...\n",
       "2952  42000-94  강원특별자치도 영월군 \n",
       "2953  60500-62    대구광역시 군위군 \n",
       "2954   70100-1     인천광역시 남동구\n",
       "2955  28200-12     인천광역시 남동구\n",
       "2956  28200-14     인천광역시 남동구\n",
       "\n",
       "[2957 rows x 2 columns]"
      ]
     },
     "execution_count": 56,
     "metadata": {},
     "output_type": "execute_result"
    }
   ],
   "source": [
    "df = df[['구간 번호', '대표지역']]\n",
    "\n",
    "df"
   ]
  },
  {
   "cell_type": "code",
   "execution_count": 57,
   "id": "5023965d",
   "metadata": {},
   "outputs": [
    {
     "name": "stdout",
     "output_type": "stream",
     "text": [
      "<class 'pandas.core.frame.DataFrame'>\n",
      "RangeIndex: 2957 entries, 0 to 2956\n",
      "Data columns (total 2 columns):\n",
      " #   Column  Non-Null Count  Dtype \n",
      "---  ------  --------------  ----- \n",
      " 0   구간 번호   2957 non-null   object\n",
      " 1   대표지역    2956 non-null   object\n",
      "dtypes: object(2)\n",
      "memory usage: 46.3+ KB\n"
     ]
    }
   ],
   "source": [
    "df.info()"
   ]
  },
  {
   "cell_type": "code",
   "execution_count": 61,
   "id": "8ac21789",
   "metadata": {},
   "outputs": [],
   "source": [
    "cnt = 0\n",
    "\n",
    "for i in range(len(df)):\n",
    "    if '원주' in str(df['대표지역'][i]):\n",
    "        cnt += 1"
   ]
  },
  {
   "cell_type": "code",
   "execution_count": 62,
   "id": "11b23fac",
   "metadata": {},
   "outputs": [
    {
     "data": {
      "text/plain": [
       "72"
      ]
     },
     "execution_count": 62,
     "metadata": {},
     "output_type": "execute_result"
    }
   ],
   "source": [
    "cnt"
   ]
  },
  {
   "cell_type": "code",
   "execution_count": 63,
   "id": "1267c288",
   "metadata": {},
   "outputs": [],
   "source": [
    "cnt1 = 0\n",
    "\n",
    "for i in range(len(df)):\n",
    "    if '강원' in str(df['대표지역'][i]):\n",
    "        cnt1 += 1"
   ]
  },
  {
   "cell_type": "code",
   "execution_count": 65,
   "id": "a1d100fd",
   "metadata": {},
   "outputs": [
    {
     "data": {
      "text/plain": [
       "608"
      ]
     },
     "execution_count": 65,
     "metadata": {},
     "output_type": "execute_result"
    }
   ],
   "source": [
    "cnt1"
   ]
  },
  {
   "cell_type": "code",
   "execution_count": 77,
   "id": "e8a0eda9",
   "metadata": {},
   "outputs": [],
   "source": [
    "g_list = []\n",
    "cnt2 = 0\n",
    "\n",
    "for i in range(len(df)):\n",
    "    if '강원' in str(df['대표지역'][i]):\n",
    "        g_list.append(df['대표지역'][i].split()[-1])\n",
    "        cnt2 += 1"
   ]
  },
  {
   "cell_type": "code",
   "execution_count": 87,
   "id": "0cee9159",
   "metadata": {},
   "outputs": [],
   "source": [
    "from collections import Counter\n",
    "\n",
    "g_c = Counter(g_list).most_common()"
   ]
  },
  {
   "cell_type": "code",
   "execution_count": 88,
   "id": "e2baca1e",
   "metadata": {},
   "outputs": [
    {
     "data": {
      "text/plain": [
       "[('춘천시', 78),\n",
       " ('정선군', 75),\n",
       " ('원주시', 72),\n",
       " ('홍천군', 48),\n",
       " ('강릉시', 44),\n",
       " ('평창군', 43),\n",
       " ('영월군', 43),\n",
       " ('태백시', 39),\n",
       " ('삼척시', 38),\n",
       " ('횡성군', 35),\n",
       " ('인제군', 22),\n",
       " ('철원군', 20),\n",
       " ('양양군', 18),\n",
       " ('양구군', 14),\n",
       " ('고성군', 10),\n",
       " ('화천군', 9)]"
      ]
     },
     "execution_count": 88,
     "metadata": {},
     "output_type": "execute_result"
    }
   ],
   "source": [
    "g_c"
   ]
  },
  {
   "cell_type": "markdown",
   "id": "9b9f15a3",
   "metadata": {},
   "source": [
    "### piechart - 전국 / 강원도 / 원주시"
   ]
  },
  {
   "cell_type": "code",
   "execution_count": 145,
   "id": "3f8bb632",
   "metadata": {},
   "outputs": [
    {
     "data": {
      "image/png": "[encoded data removed]",
      "text/plain": [
       "<Figure size 640x480 with 1 Axes>"
      ]
     },
     "metadata": {},
     "output_type": "display_data"
    }
   ],
   "source": [
    "plt.title('전국 / 강원도 / 원주시 결빙구간비율')\n",
    "\n",
    "ratio = [len(df) - cnt1, cnt1 - cnt, cnt]\n",
    "labels = ['전국', '강원도', '원주시']\n",
    "colors = ['#ff9999', '#ffc000', '#8fd9b6', '#d395d0']\n",
    "wedgeprops={'width': 0.7, 'edgecolor': 'w', 'linewidth': 5}\n",
    "\n",
    "plt.pie(ratio, labels=labels, autopct='%.1f%%', startangle=90, counterclock=False, colors=colors, wedgeprops=wedgeprops)\n",
    "plt.show()"
   ]
  },
  {
   "cell_type": "markdown",
   "id": "82322b81",
   "metadata": {},
   "source": [
    "### piechart2 - 강원도 내 지역"
   ]
  },
  {
   "cell_type": "code",
   "execution_count": 146,
   "id": "5623cf14",
   "metadata": {},
   "outputs": [],
   "source": [
    "ratio = []\n",
    "\n",
    "for i in range(len(g_c) - 4):\n",
    "    ratio.append(g_c[i][1])\n",
    "    \n",
    "ratio.append(51)"
   ]
  },
  {
   "cell_type": "code",
   "execution_count": 147,
   "id": "236684fe",
   "metadata": {},
   "outputs": [],
   "source": [
    "labels = []\n",
    "\n",
    "for i in range(len(g_c) - 4):\n",
    "    labels.append(g_c[i][0])\n",
    "    \n",
    "labels.append('그 외')"
   ]
  },
  {
   "cell_type": "code",
   "execution_count": 148,
   "id": "8fb260bb",
   "metadata": {},
   "outputs": [
    {
     "data": {
      "image/png": "[encoded data removed]",
      "text/plain": [
       "<Figure size 640x480 with 1 Axes>"
      ]
     },
     "metadata": {},
     "output_type": "display_data"
    }
   ],
   "source": [
    "plt.title('강원도 내 전지역 결빙구간비율')\n",
    "\n",
    "colors = ['#ffc000', '#ffc000', '#8fd9b6', '#ffc000','#ffc000','#ffc000','#ffc000','#ffc000','#ffc000','#ffc000','#ffc000','#ffc000','#ff9999' ]\n",
    "wedgeprops={'width': 0.7, 'edgecolor': 'w', 'linewidth': 5}\n",
    "\n",
    "plt.pie(ratio, labels=labels, autopct='%.1f%%', startangle=90, counterclock=False, colors=colors, wedgeprops=wedgeprops)\n",
    "plt.show()"
   ]
  }
 ],
 "metadata": {
  "kernelspec": {
   "display_name": "Python 3 (ipykernel)",
   "language": "python",
   "name": "python3"
  },
  "language_info": {
   "codemirror_mode": {
    "name": "ipython",
    "version": 3
   },
   "file_extension": ".py",
   "mimetype": "text/x-python",
   "name": "python",
   "nbconvert_exporter": "python",
   "pygments_lexer": "ipython3",
   "version": "3.11.5"
  }
 },
 "nbformat": 4,
 "nbformat_minor": 5
}
